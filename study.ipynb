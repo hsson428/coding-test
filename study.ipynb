{
 "metadata": {
  "language_info": {
   "codemirror_mode": {
    "name": "ipython",
    "version": 3
   },
   "file_extension": ".py",
   "mimetype": "text/x-python",
   "name": "python",
   "nbconvert_exporter": "python",
   "pygments_lexer": "ipython3",
   "version": "3.7.9"
  },
  "orig_nbformat": 2,
  "kernelspec": {
   "name": "python3",
   "display_name": "Python 3.7.9 64-bit ('ssac-one': conda)",
   "metadata": {
    "interpreter": {
     "hash": "76b2629d6ec435d7388922d36b92d0407f8c79ba22b8fc1ee3b64f51506916f2"
    }
   }
  }
 },
 "nbformat": 4,
 "nbformat_minor": 2,
 "cells": [
  {
   "cell_type": "code",
   "execution_count": 1,
   "metadata": {},
   "outputs": [
    {
     "output_type": "stream",
     "name": "stdout",
     "text": [
      "[('A', 'A'), ('A', 'B'), ('A', 'C'), ('B', 'A'), ('B', 'B'), ('B', 'C'), ('C', 'A'), ('C', 'B'), ('C', 'C')]\n"
     ]
    }
   ],
   "source": [
    "from itertools import product\n",
    "\n",
    "data = ['A', 'B', 'C']\n",
    "\n",
    "result = list(product(data, repeat=2))\n",
    "print(result)"
   ]
  },
  {
   "cell_type": "code",
   "execution_count": 4,
   "metadata": {},
   "outputs": [
    {
     "output_type": "stream",
     "name": "stdout",
     "text": [
      "4\n"
     ]
    }
   ],
   "source": [
    "N = input()\n",
    "counts = 0\n",
    "coins = [500,100,50,10]\n",
    "\n",
    "for coin in coins:\n",
    "    int(N) / coin\n",
    "    counts += 1\n",
    "    if N == 0:\n",
    "        break\n",
    "\n",
    "print(counts)"
   ]
  },
  {
   "cell_type": "code",
   "execution_count": 8,
   "metadata": {},
   "outputs": [
    {
     "output_type": "stream",
     "name": "stdout",
     "text": [
      "6\n"
     ]
    }
   ],
   "source": [
    "n= 1260\n",
    "counts = 0\n",
    "coins = [500,100,50,10]\n",
    "\n",
    "for coin in coins:\n",
    "    counts += n // coin\n",
    "    n %= coin\n",
    "\n",
    "print(counts)"
   ]
  },
  {
   "cell_type": "code",
   "execution_count": 5,
   "metadata": {},
   "outputs": [
    {
     "output_type": "stream",
     "name": "stdout",
     "text": [
      "6\n"
     ]
    }
   ],
   "source": [
    "n = int(input())\n",
    "k = int(input())\n",
    "counts = 0\n",
    "\n",
    "while(True):\n",
    "    if n ==1:\n",
    "        break\n",
    "    elif n%k != 0:\n",
    "        n = n-1\n",
    "        counts+=1\n",
    "    else:\n",
    "        n=n/k\n",
    "        counts += 1\n",
    "\n",
    "\n",
    "print(counts)"
   ]
  },
  {
   "cell_type": "code",
   "execution_count": null,
   "metadata": {},
   "outputs": [],
   "source": []
  },
  {
   "cell_type": "code",
   "execution_count": 10,
   "metadata": {},
   "outputs": [
    {
     "output_type": "stream",
     "name": "stdout",
     "text": [
      "3\n"
     ]
    }
   ],
   "source": [
    "n,k = map(int, input().split())\n",
    "result = 0\n",
    "\n",
    "while True:\n",
    "    if n == 1:\n",
    "        break\n",
    "    target = n//k*k\n",
    "    result += n - target\n",
    "    n = target\n",
    "    result += 1\n",
    "    n //= k\n",
    "\n",
    "print(result)"
   ]
  },
  {
   "cell_type": "code",
   "execution_count": 25,
   "metadata": {},
   "outputs": [
    {
     "output_type": "stream",
     "name": "stdout",
     "text": [
      "28\n"
     ]
    }
   ],
   "source": [
    "S = input()\n",
    "result = 0\n",
    "\n",
    "for n in range(len(S)):\n",
    "    num = int(S[n])\n",
    "    if n == 0:\n",
    "        continue\n",
    "    elif n == 1:\n",
    "        if  S[0] or num == 0 or 1:\n",
    "            result = int(S[0]) + num\n",
    "        else:\n",
    "            result = int(S[0]) * num\n",
    "    elif  num == 0 or 1:\n",
    "        result += num\n",
    "    else:\n",
    "        result *= num\n",
    "\n",
    "print(result)"
   ]
  },
  {
   "cell_type": "code",
   "execution_count": 40,
   "metadata": {},
   "outputs": [
    {
     "output_type": "stream",
     "name": "stdout",
     "text": [
      "2025\n"
     ]
    }
   ],
   "source": [
    "S = input()\n",
    "result = 0\n",
    "\n",
    "for n in range(1, len(S)):\n",
    "    num = int(S[n])\n",
    "    elif n == 1:\n",
    "        if S[0] == 0 or num == 0 or S[0] == 1 or num == 1:\n",
    "            result = int(S[0]) + num\n",
    "        else:\n",
    "            result = int(S[0]) * num\n",
    "    elif num == 0 or num == 1:\n",
    "        result += num\n",
    "    else:\n",
    "        result *= num\n",
    "\n",
    "print(result)"
   ]
  },
  {
   "cell_type": "code",
   "execution_count": 41,
   "metadata": {},
   "outputs": [
    {
     "output_type": "stream",
     "name": "stdout",
     "text": [
      "2025\n"
     ]
    }
   ],
   "source": [
    "s = input()\n",
    "result = int(s[0])\n",
    "\n",
    "for i in range(1, len(S)):\n",
    "    num = int(S[i])\n",
    "    if result <= 1 or num <=1:\n",
    "        result += num\n",
    "    else:\n",
    "        result *= num\n",
    "\n",
    "print(result)"
   ]
  },
  {
   "cell_type": "code",
   "execution_count": null,
   "metadata": {},
   "outputs": [],
   "source": []
  },
  {
   "cell_type": "code",
   "execution_count": 58,
   "metadata": {},
   "outputs": [
    {
     "output_type": "stream",
     "name": "stdout",
     "text": [
      "7 7 3\n[1, 3, 5, 4, 5, 6, 6]\n[1, 3, 5, 4, 5, 6]\n42\n"
     ]
    }
   ],
   "source": [
    "n, m, k = map(int, input().split())\n",
    "N = list(map(int, input().split()))\n",
    "N2 = list(N)\n",
    "N2.remove(max(N))\n",
    "x=m//(k+1)\n",
    "y=m%(k+1)\n",
    "result = max(N)*(3*x+y)+max(N2)*x\n",
    "\n",
    "print( n, m, k )\n",
    "print(N)\n",
    "print(N2)\n",
    "print(result)"
   ]
  },
  {
   "cell_type": "code",
   "execution_count": null,
   "metadata": {},
   "outputs": [],
   "source": []
  },
  {
   "cell_type": "code",
   "execution_count": 75,
   "metadata": {},
   "outputs": [
    {
     "output_type": "stream",
     "name": "stdout",
     "text": [
      "3\n"
     ]
    }
   ],
   "source": [
    "advs = list(map(int, input().split()))\n",
    "num = 0\n",
    "result = 0\n",
    "\n",
    "\n",
    "for j in range(1, max(advs)+1):\n",
    "    result += advs.count(j)//j\n",
    "    num += advs.count(j)%j\n",
    "    plus = num//j\n",
    "    result += plus\n",
    "    num -= plus\n",
    "print(result)"
   ]
  },
  {
   "cell_type": "code",
   "execution_count": null,
   "metadata": {},
   "outputs": [],
   "source": []
  },
  {
   "cell_type": "code",
   "execution_count": 104,
   "metadata": {},
   "outputs": [
    {
     "output_type": "stream",
     "name": "stdout",
     "text": [
      "3\n"
     ]
    }
   ],
   "source": [
    "import numpy as np\n",
    "n, m = map(int, input().split())\n",
    "result = []\n",
    "columns= np.empty((1, 5), dtype=int)\n",
    "\n",
    "for i in range(n):\n",
    "    column = np.array([list(map(int, input().split()))])\n",
    "    columns = np.append(columns, column, axis=0)\n",
    "    result.append(min(columns[i]))\n",
    "\n",
    "print(max(result))"
   ]
  },
  {
   "cell_type": "code",
   "execution_count": null,
   "metadata": {},
   "outputs": [],
   "source": []
  }
 ]
}